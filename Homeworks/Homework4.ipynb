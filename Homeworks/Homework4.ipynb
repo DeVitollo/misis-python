{
 "cells": [
  {
   "cell_type": "code",
   "execution_count": 56,
   "id": "273598a5-3611-4de7-ae77-d4703288c64f",
   "metadata": {},
   "outputs": [
    {
     "name": "stdout",
     "output_type": "stream",
     "text": [
      "Медианой оценок является: 3\n",
      "Список плохих учеников: ['Дмитриев Н. 2', 'Котов Д. 2', 'Бирюкова Н. 1', 'Лемонов Ю. 2']\n"
     ]
    }
   ],
   "source": [
    "#Task 1\n",
    "import statistics as st\n",
    "with open ('uspevaemost.txt','r',encoding='utf-8') as progress:\n",
    "    uspev=progress.read().split('\\n')\n",
    "    marks=[i[-1] for i in uspev]\n",
    "    marks_median=st.median(marks)\n",
    "    plohie=[i for i in uspev if i[-1]<marks_median]\n",
    "print(f'Медианой оценок является: {marks_median}\\nСписок плохих учеников: {plohie}')"
   ]
  },
  {
   "cell_type": "code",
   "execution_count": 57,
   "id": "50b2a378-bc03-4912-a585-68e907ca8039",
   "metadata": {},
   "outputs": [
    {
     "name": "stdout",
     "output_type": "stream",
     "text": [
      "<class 'str'>\n"
     ]
    }
   ],
   "source": [
    "print(type(plohie))"
   ]
  },
  {
   "cell_type": "code",
   "execution_count": 2,
   "id": "b56da80a-4bf0-498f-9ca5-bdafdcf03f39",
   "metadata": {},
   "outputs": [
    {
     "name": "stdout",
     "output_type": "stream",
     "text": [
      "Лекций: 6\n",
      "Практических: 11\n",
      "Лабораторных: 2\n"
     ]
    }
   ],
   "source": [
    "#Task 2\n",
    "with open('raspisanie.txt', 'r', encoding='utf-8') as text:\n",
    "    lessons = text.readlines()\n",
    "\n",
    "lec = len([i for i in lessons if 'лек' in i])\n",
    "pract = len([i for i in lessons if 'прак' in i])\n",
    "lab = len([i for i in lessons if 'лаб' in i])\n",
    "    \n",
    "print('Лекций:', lec)\n",
    "print('Практических:', pract)\n",
    "print('Лабораторных:', lab)\n",
    "    "
   ]
  },
  {
   "cell_type": "code",
   "execution_count": 13,
   "id": "e704dad3-f7ee-4a67-8167-019b35124215",
   "metadata": {},
   "outputs": [
    {
     "name": "stdout",
     "output_type": "stream",
     "text": [
      "рабочая директория: C:\\Users\\user\n",
      "папки в директории: ['.gitconfig', '.idlerc', '.ipynb_checkpoints', '.ipython', '.jupyter', '.Origin', '.QtWebEngineProcess', '.VirtualBox', '.Xilinx', '3D Objects', 'ansel', 'ansuitmp', 'AppData', 'Apple', 'Application Data', 'bot.py', 'Contacts', 'Cookies', 'Creative Cloud Files', 'Creative Cloud Files (archived) (1)', 'Desktop', 'Documents', 'Downloads', 'Favorites', 'file.avi', 'file.BCS', 'file.db', 'file.err', 'file.esav', 'file.full', 'file.lock', 'file.log', 'file.mntr', 'file.mode', 'file.page', 'file.PVTS', 'file.rst', 'file.sda', 'file.stat', 'Homework2.ipynb', 'Homework3.ipynb', 'Homework4.ipynb', 'Intel', 'IntelGraphicsProfiles', 'LABA1.err', 'LABA1.log', 'Links', 'Local Settings', 'marusevk@ya.ru Creative Cloud Files', 'menust.tmp', 'MicrosoftEdgeBackups', 'Music', 'NetHood', 'NTUSER.DAT', 'ntuser.dat.LOG1', 'ntuser.dat.LOG2', 'NTUSER.DAT{53b39e88-18c4-11ea-a811-000d3aa4692b}.TM.blf', 'NTUSER.DAT{53b39e88-18c4-11ea-a811-000d3aa4692b}.TMContainer00000000000000000001.regtrans-ms', 'NTUSER.DAT{53b39e88-18c4-11ea-a811-000d3aa4692b}.TMContainer00000000000000000002.regtrans-ms', 'ntuser.ini', 'OneDrive', 'opera autoupdate', 'Pictures', 'PrintHood', 'raspisanie.txt', 'Recent', 'Roaming', 'Saved Games', 'Searches', 'SendTo', 'Untitled.ipynb', 'Untitled1.ipynb', 'Untitled2.ipynb', 'Untitled3.ipynb', 'uspevaemost.txt', 'Videos', 'VirtualBox VMs', 'главное меню', 'Мои документы', 'Практика.ipynb', 'Шаблоны']\n"
     ]
    }
   ],
   "source": [
    "#Task 3\n",
    "import os\n",
    "print('рабочая директория:', os.getcwd())\n",
    "print('папки в директории:', os.listdir())"
   ]
  },
  {
   "cell_type": "code",
   "execution_count": null,
   "id": "611dabb4-2515-416d-8984-e0716386699f",
   "metadata": {},
   "outputs": [],
   "source": [
    "#Task 4\n",
    "import collections\n",
    "with open (\"Task4.txt\",\"r\",encoding=\"utf-8\") as text:\n",
    "    text=text.read()\n",
    "words = text.split()\n",
    "counter = collections.Counter(words)\n",
    "most_common, occurrences = counter.most_common()[0]\n",
    "longest = max(words, key=len)\n",
    "print(f'Самое частое слово: {most_common}\\nСамое длинное слово: {longest}')"
   ]
  }
 ],
 "metadata": {
  "kernelspec": {
   "display_name": "Python 3 (ipykernel)",
   "language": "python",
   "name": "python3"
  },
  "language_info": {
   "codemirror_mode": {
    "name": "ipython",
    "version": 3
   },
   "file_extension": ".py",
   "mimetype": "text/x-python",
   "name": "python",
   "nbconvert_exporter": "python",
   "pygments_lexer": "ipython3",
   "version": "3.10.0"
  }
 },
 "nbformat": 4,
 "nbformat_minor": 5
}
