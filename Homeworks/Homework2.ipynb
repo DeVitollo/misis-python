{
 "cells": [
  {
   "cell_type": "code",
   "execution_count": 46,
   "id": "82aae1ba-7072-424e-a56f-849143b205a3",
   "metadata": {},
   "outputs": [
    {
     "name": "stdin",
     "output_type": "stream",
     "text": [
      " 4\n"
     ]
    },
    {
     "name": "stdout",
     "output_type": "stream",
     "text": [
      "4-м месяцем календарного года является April\n"
     ]
    }
   ],
   "source": [
    "#Task 1\n",
    "months=['January','February','March','April','May','June','July','August','September','October','November','December']\n",
    "a=int(input())\n",
    "if a>0 and a<13:\n",
    "    print(f\"{a}-м месяцем календарного года является {months[a-1]}\") \n",
    "else:\n",
    "    print(\"Такого месяца не существует :(\")"
   ]
  },
  {
   "cell_type": "code",
   "execution_count": 30,
   "id": "0155fe95-6e69-4ce6-8279-5e863378854c",
   "metadata": {},
   "outputs": [
    {
     "name": "stdin",
     "output_type": "stream",
     "text": [
      " 3 12\n"
     ]
    },
    {
     "name": "stdout",
     "output_type": "stream",
     "text": [
      "3\n"
     ]
    }
   ],
   "source": [
    "#Task 2\n",
    "a,b=input().split()\n",
    "a=int(a)\n",
    "b=int(b)\n",
    "while a != b:\n",
    "    if a > b:\n",
    "        a = a - b\n",
    "    else:\n",
    "        b = b - a\n",
    "print(a)"
   ]
  },
  {
   "cell_type": "code",
   "execution_count": 47,
   "id": "0ae75be9-f7c1-4a95-9bb8-38afb7235305",
   "metadata": {},
   "outputs": [
    {
     "name": "stdin",
     "output_type": "stream",
     "text": [
      " fds.png\n"
     ]
    },
    {
     "name": "stdout",
     "output_type": "stream",
     "text": [
      "fds.png соотвествует указанным расширениям !\n"
     ]
    }
   ],
   "source": [
    "#Task 3\n",
    "file=str(input())\n",
    "extensions = ['png', 'jpg', 'jpeg', 'gif', 'svg']\n",
    "a=file.find('.')\n",
    "if file[a+1:] not in extensions:\n",
    "    print(f\"{file} не соотвествует указанным расщирениям\")\n",
    "else:\n",
    "    print(f\"{file} соотвествует указанным расширениям !\")"
   ]
  },
  {
   "cell_type": "code",
   "execution_count": 90,
   "id": "ade8bf04-ccca-409e-88e8-2465d9c63f2c",
   "metadata": {},
   "outputs": [
    {
     "name": "stdin",
     "output_type": "stream",
     "text": [
      " 1980\n"
     ]
    },
    {
     "name": "stdout",
     "output_type": "stream",
     "text": [
      "1980 является високосным годом\n"
     ]
    }
   ],
   "source": [
    "#Task 4\n",
    "year=int(input())\n",
    "if (year%4==0 and year%100!=0) or (year%400==0):\n",
    "    print(f\"{year} является високосным годом\")\n",
    "else: \n",
    "    print(f\"{year} является невисокосным годом\")\n"
   ]
  }
 ],
 "metadata": {
  "kernelspec": {
   "display_name": "Python 3 (ipykernel)",
   "language": "python",
   "name": "python3"
  },
  "language_info": {
   "codemirror_mode": {
    "name": "ipython",
    "version": 3
   },
   "file_extension": ".py",
   "mimetype": "text/x-python",
   "name": "python",
   "nbconvert_exporter": "python",
   "pygments_lexer": "ipython3",
   "version": "3.10.0"
  }
 },
 "nbformat": 4,
 "nbformat_minor": 5
}
