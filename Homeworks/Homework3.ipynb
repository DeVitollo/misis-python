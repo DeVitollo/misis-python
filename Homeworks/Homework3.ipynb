{
 "cells": [
  {
   "cell_type": "code",
   "execution_count": 18,
   "id": "c43b3bb4-dc25-468a-a906-83f2e192a4f7",
   "metadata": {},
   "outputs": [
    {
     "name": "stdin",
     "output_type": "stream",
     "text": [
      "Введите число: 21\n",
      "Введите извелкаемую степень: 4\n"
     ]
    },
    {
     "data": {
      "text/plain": [
       "2.1406951429280725"
      ]
     },
     "execution_count": 18,
     "metadata": {},
     "output_type": "execute_result"
    }
   ],
   "source": [
    "#Task1\n",
    "x=int(input('Введите число:'))\n",
    "n=int(input('Введите извелкаемую степень:'))\n",
    "def pow2():\n",
    "    return x**(1/n)\n",
    "pow2()"
   ]
  },
  {
   "cell_type": "code",
   "execution_count": 19,
   "id": "b1eb262e-3cda-46db-85a3-d71aca43ea5f",
   "metadata": {},
   "outputs": [
    {
     "name": "stdin",
     "output_type": "stream",
     "text": [
      " r3qrfsfs.svg\n"
     ]
    },
    {
     "name": "stdout",
     "output_type": "stream",
     "text": [
      "r3qrfsfs.svg соотвествует указанным расширениям !\n"
     ]
    }
   ],
   "source": [
    "#Task 2\n",
    "file=str(input())\n",
    "extensions = ['png', 'jpg', 'jpeg', 'gif', 'svg']\n",
    "a=file.find('.')\n",
    "def check ():\n",
    "    if file[a+1:] not in extensions:\n",
    "        print(f\"{file} не соотвествует указанным расщирениям\")\n",
    "    else:\n",
    "        print(f\"{file} соотвествует указанным расширениям !\")\n",
    "check()"
   ]
  },
  {
   "cell_type": "code",
   "execution_count": 23,
   "id": "373dc5c7-e1fe-4858-bbe6-5161f2921955",
   "metadata": {},
   "outputs": [
    {
     "name": "stdout",
     "output_type": "stream",
     "text": [
      "{1: 10, 2: 20, 3: 30, 4: 40, 5: 50, 6: 60}\n"
     ]
    }
   ],
   "source": [
    "#Task 3 (Не придумал как сделать проще)\n",
    "slovarik={}\n",
    "dict_a = {1:10, 2:20}\n",
    "dict_b = {3:30, 4:40}\n",
    "dict_c = {5:50, 6:60}\n",
    "slovarik.update(dict_a)\n",
    "slovarik.update(dict_b)\n",
    "slovarik.update(dict_c)\n",
    "print(slovarik)"
   ]
  },
  {
   "cell_type": "code",
   "execution_count": 55,
   "id": "f97d357c-146b-461f-bcc5-08ff788d76fe",
   "metadata": {},
   "outputs": [
    {
     "name": "stdin",
     "output_type": "stream",
     "text": [
      " 9999\n"
     ]
    },
    {
     "data": {
      "text/plain": [
       "36"
      ]
     },
     "execution_count": 55,
     "metadata": {},
     "output_type": "execute_result"
    }
   ],
   "source": [
    "#Task 4\n",
    "a=input()\n",
    "def sumchis ():\n",
    "    n=len(a)\n",
    "    sum=0\n",
    "    b=int(a)\n",
    "    while n!=0:\n",
    "        sum+=b//(10**(n-1))\n",
    "        b%=10**(n-1)\n",
    "        n=n-1\n",
    "    return(sum)\n",
    "sumchis()\n",
    "        "
   ]
  },
  {
   "cell_type": "code",
   "execution_count": 30,
   "id": "c15b67a7-7a32-4160-9c19-f1dcb57a1e1c",
   "metadata": {},
   "outputs": [
    {
     "name": "stdin",
     "output_type": "stream",
     "text": [
      "Введите последовательность без пробелов:  1245\n"
     ]
    },
    {
     "name": "stdout",
     "output_type": "stream",
     "text": [
      "WoW, уникальная последовательность\n"
     ]
    }
   ],
   "source": [
    "#Task 5\n",
    "numbers=input('Введите последовательность без пробелов: ')\n",
    "set_numbers=set(numbers)\n",
    "if len(numbers) == len(set_numbers):\n",
    "    print('WoW, уникальная последовательность')\n",
    "else:     print('Последовательность не является уникальной')\n",
    "\n",
    "\n"
   ]
  },
  {
   "cell_type": "code",
   "execution_count": 37,
   "id": "3ad7f790-a641-4078-91fc-18d9069873b8",
   "metadata": {},
   "outputs": [
    {
     "name": "stdout",
     "output_type": "stream",
     "text": [
      "номер 0 --> я\n",
      "номер 1 --> не\n",
      "номер 2 --> в\n",
      "номер 3 --> отпускe\n",
      "номер 4 --> a\n",
      "номер 5 --> хотелось\n"
     ]
    }
   ],
   "source": [
    "#Task 6.1\n",
    "def print_list(my_list):\n",
    "     for i in my_list:\n",
    "        print(f'номер {my_list.index(i)} --> {i}') \n",
    "pass\n",
    "\n",
    "print_list([\"я\", \"не\", \"в\", \"отпускe\",\"a\",\"хотелось\" ])\n"
   ]
  },
  {
   "cell_type": "code",
   "execution_count": 38,
   "id": "79f74dff-e6be-4e9c-8419-f436fc52a7cc",
   "metadata": {},
   "outputs": [
    {
     "name": "stdout",
     "output_type": "stream",
     "text": [
      "ключ \"key1\" --> 2\n",
      "ключ \"key3\" --> False\n",
      "ключ \"Приветствие\" --> Hello\n"
     ]
    }
   ],
   "source": [
    "#Task 6.2\n",
    "def print_dict(my_dict):\n",
    "    for i in my_dict.items():\n",
    "        print(f'ключ \"{i[0]}\" --> {i[1]}')\n",
    "pass\n",
    "\n",
    "print_dict({\"key1\": 2, \"key3\": False, \"Приветствие\": \"Hello\"})"
   ]
  },
  {
   "cell_type": "code",
   "execution_count": 39,
   "id": "346f7fa8-fb3d-4d99-8c29-b97ad2e73815",
   "metadata": {},
   "outputs": [
    {
     "name": "stdout",
     "output_type": "stream",
     "text": [
      "значение: 1\n",
      "номер 0 --> 1\n",
      "номер 1 --> 2\n",
      "номер 2 --> 3\n",
      "номер 3 --> 4\n",
      "значение: Hello\n",
      "ключ \"ciao\" --> Mondo\n",
      "ключ \"Привет\" --> О дивный мир\n"
     ]
    }
   ],
   "source": [
    "#Task 6.3\n",
    "def print_overlord(mydict):\n",
    "    for i in mydict.items():\n",
    "        \n",
    "        if isinstance(i[1], dict):\n",
    "            print_dict(i[1])\n",
    "            \n",
    "        elif isinstance(i[1], list):\n",
    "            print_list(i[1])\n",
    "            \n",
    "        else:\n",
    "            print(f'значение: {i[1]}')\n",
    "pass\n",
    "\n",
    "print_overlord(dict(key1=1,\n",
    "            key2=[1, 2, 3, 4], \n",
    "            key3='Hello', \n",
    "            key4={\"ciao\":\"Mondo\", \"Привет\": \"О дивный мир\"}))"
   ]
  }
 ],
 "metadata": {
  "kernelspec": {
   "display_name": "Python 3 (ipykernel)",
   "language": "python",
   "name": "python3"
  },
  "language_info": {
   "codemirror_mode": {
    "name": "ipython",
    "version": 3
   },
   "file_extension": ".py",
   "mimetype": "text/x-python",
   "name": "python",
   "nbconvert_exporter": "python",
   "pygments_lexer": "ipython3",
   "version": "3.10.0"
  }
 },
 "nbformat": 4,
 "nbformat_minor": 5
}
