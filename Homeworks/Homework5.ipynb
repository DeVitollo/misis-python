{
 "cells": [
  {
   "cell_type": "code",
   "execution_count": 39,
   "id": "a4f85813-2e46-46da-8554-514bdaeccbac",
   "metadata": {},
   "outputs": [],
   "source": [
    "#Task 1\n",
    "class Student():\n",
    "    def __init__ (self, name='Ivan',age='18',groupNumber='10A'):\n",
    "        self.name=name\n",
    "        self.age=age\n",
    "        self.groupNumber=groupNumber\n",
    "    def getName (self):\n",
    "        return self.name\n",
    "    def getAge (self):\n",
    "        return self.age\n",
    "    def getGroupNumber (self):\n",
    "        return self.groupNumber\n",
    "    def setNameAge (self,NewName,NewAge):\n",
    "        self.name=NewName\n",
    "        self.age=NewAge\n",
    "    def setGroupNumber (self,NewGroupNumber):\n",
    "        self.groupNumber=NewGroupNumber\n",
    "    def showInfo(self):\n",
    "        print('Имя',self.name)\n",
    "        print('Возраст',self.age)\n",
    "        print('Группа',self.groupNumber)\n",
    "        \n"
   ]
  },
  {
   "cell_type": "code",
   "execution_count": 40,
   "id": "974d7e76-132b-44d4-8b3b-9952701e6944",
   "metadata": {},
   "outputs": [],
   "source": [
    "KirillMarusev=Student('Kirill',22,'10B')\n",
    "OlegMarusev=Student('Oleg',10,'1B')\n",
    "IvanIvanov=Student('Ivan',18,'7A')\n",
    "SilvesterPronin=Student('Silvester',49,'128E')\n",
    "YuliaShow=Student('Yulia',9,'1G')"
   ]
  },
  {
   "cell_type": "code",
   "execution_count": 42,
   "id": "f6f0ca8e-6715-4f3e-90c0-9904658cf82f",
   "metadata": {},
   "outputs": [],
   "source": [
    "YuliaShow.setGroupNumber('2Y')\n"
   ]
  },
  {
   "cell_type": "code",
   "execution_count": 44,
   "id": "2de136fd-893a-4992-8b8d-3af72fa41cf5",
   "metadata": {},
   "outputs": [
    {
     "name": "stdout",
     "output_type": "stream",
     "text": [
      "Имя Yulia\n",
      "Возраст 9\n",
      "Группа 2Y\n"
     ]
    }
   ],
   "source": [
    "YuliaShow.showInfo()"
   ]
  },
  {
   "cell_type": "code",
   "execution_count": 29,
   "id": "7eda73ec-b110-45a9-89ea-1af03dd70fd6",
   "metadata": {},
   "outputs": [],
   "source": [
    "#Task 2\n",
    "class Car ():\n",
    "    def __init__ (self,color,type,year):\n",
    "        self.color=color\n",
    "        self.type=type\n",
    "        self.year=year\n",
    "    def zapusk (self):\n",
    "        print('Автомобиль заведен')\n",
    "        return True\n",
    "    def turnoff (self):\n",
    "        print('Автомобиль заглушен')\n",
    "        return False\n",
    "    def getYear (self):\n",
    "        return self.year\n",
    "    def getType (self):\n",
    "        return self.type\n",
    "    def getColor(self):\n",
    "        return self.color\n",
    "    def showInfo(self):\n",
    "        print('Цвет',self.color)\n",
    "        print('Тип',self.type)\n",
    "        print('Год',self.year)\n",
    "        \n",
    "        "
   ]
  },
  {
   "cell_type": "code",
   "execution_count": 30,
   "id": "978fa8f9-702b-4808-9116-2a53a239640e",
   "metadata": {},
   "outputs": [],
   "source": [
    "ToyotaCamry=Car('black','Bclass',2002)"
   ]
  },
  {
   "cell_type": "code",
   "execution_count": 31,
   "id": "b0bc4c5c-91d8-4aca-a5ec-fe27f14fedec",
   "metadata": {},
   "outputs": [
    {
     "name": "stdout",
     "output_type": "stream",
     "text": [
      "Цвет black\n",
      "Тип Bclass\n",
      "Год 2002\n"
     ]
    }
   ],
   "source": [
    "ToyotaCamry.showInfo()"
   ]
  },
  {
   "cell_type": "code",
   "execution_count": 46,
   "id": "6011c313-15b5-4ca2-8f2f-d5873ad5c93e",
   "metadata": {},
   "outputs": [
    {
     "name": "stdout",
     "output_type": "stream",
     "text": [
      "Автомобиль заглушен\n",
      "False\n"
     ]
    }
   ],
   "source": [
    "print(ToyotaCamry.turnoff())"
   ]
  },
  {
   "cell_type": "code",
   "execution_count": 235,
   "id": "29130469-7010-4c22-bae3-06088a053bf2",
   "metadata": {},
   "outputs": [],
   "source": [
    "#Task 3\n",
    "class NutritionInfo:\n",
    "    def __init__(self, proteins, carbs, fats):\n",
    "        self.proteins = proteins\n",
    "        self.carbs = carbs\n",
    "        self.fats = fats\n",
    "    \n",
    "    def __add__(self, other):\n",
    "        return NutritionInfo(self.proteins + other.proteins, self.carbs + other.carbs, self.fats + other.fats)\n",
    "    \n",
    "    def __rmul__(self, i):\n",
    "        return NutritionInfo(self.proteins * i, self.carbs * i, self.fats * i)\n",
    "    \n",
    "    def __str__(self):\n",
    "        return f\"Nutrition p {self.proteins}, c {self.carbs}, f {self.fats}\"\n",
    "    \n",
    "    def energy(self):\n",
    "        return int(self.fats * 9 + (self.carbs + self.proteins) * 4.2)\n",
    " "
   ]
  },
  {
   "cell_type": "code",
   "execution_count": 236,
   "id": "0835f81b-bbfd-44fc-b28f-ae96e960ae6a",
   "metadata": {},
   "outputs": [],
   "source": [
    "egg = NutritionInfo(1, 2, 3)\n",
    "pastila = NutritionInfo(1, 2, 3)\n",
    "tvorog_9 = NutritionInfo(18, 3, 9)\n",
    "apple = NutritionInfo(0, 25, 0)"
   ]
  },
  {
   "cell_type": "code",
   "execution_count": 241,
   "id": "b0d2c48d-2e77-406e-8a7d-31e9bfbce975",
   "metadata": {},
   "outputs": [
    {
     "name": "stdout",
     "output_type": "stream",
     "text": [
      "Nutrition p 1, c 1327, f 3\n"
     ]
    }
   ],
   "source": [
    "print (53*apple+pastila)"
   ]
  },
  {
   "cell_type": "code",
   "execution_count": 238,
   "id": "48e404a6-6a95-4c15-94fa-8b0fb2661031",
   "metadata": {},
   "outputs": [],
   "source": [
    "breakfast = 8*apple+3*egg+10*pastila"
   ]
  },
  {
   "cell_type": "code",
   "execution_count": 226,
   "id": "0922f48e-4306-4be8-916d-5a554cbd5fce",
   "metadata": {},
   "outputs": [
    {
     "name": "stdout",
     "output_type": "stream",
     "text": [
      "128\n"
     ]
    }
   ],
   "source": [
    "print(breakfast)"
   ]
  },
  {
   "cell_type": "code",
   "execution_count": 239,
   "id": "5ad6bdb2-f9c8-4ae4-b25b-7d56f083cb4f",
   "metadata": {},
   "outputs": [
    {
     "data": {
      "text/plain": [
       "1354"
      ]
     },
     "execution_count": 239,
     "metadata": {},
     "output_type": "execute_result"
    }
   ],
   "source": [
    "breakfast.energy()"
   ]
  }
 ],
 "metadata": {
  "kernelspec": {
   "display_name": "Python 3 (ipykernel)",
   "language": "python",
   "name": "python3"
  },
  "language_info": {
   "codemirror_mode": {
    "name": "ipython",
    "version": 3
   },
   "file_extension": ".py",
   "mimetype": "text/x-python",
   "name": "python",
   "nbconvert_exporter": "python",
   "pygments_lexer": "ipython3",
   "version": "3.10.0"
  }
 },
 "nbformat": 4,
 "nbformat_minor": 5
}
