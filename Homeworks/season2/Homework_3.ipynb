{
 "cells": [
  {
   "cell_type": "code",
   "execution_count": 5,
   "id": "14fd91cb-85b9-4b65-851d-b4ba5316e3f5",
   "metadata": {},
   "outputs": [],
   "source": [
    "import pandas as pd\n",
    "import numpy as np\n",
    "from sklearn.model_selection import train_test_split\n",
    "from sklearn.ensemble import RandomForestClassifier\n",
    "from sklearn.metrics import  classification_report\n",
    "from sklearn.svm import SVC\n",
    "from sklearn.neighbors import KNeighborsClassifier"
   ]
  },
  {
   "cell_type": "code",
   "execution_count": 7,
   "id": "06e462df-26d4-4b67-9835-569fc620c9ce",
   "metadata": {},
   "outputs": [
    {
     "data": {
      "text/plain": [
       "Index(['Маржинальная прибыль_sum', 'Повторение заказа_sum', 'Продажи, руб_sum',\n",
       "       'Продажи, шт_median', 'Продажи, шт_sum'],\n",
       "      dtype='object')"
      ]
     },
     "execution_count": 7,
     "metadata": {},
     "output_type": "execute_result"
    }
   ],
   "source": [
    "FILEPATH = 'DataSet_w_NA.xlsx'\n",
    "df = pd.read_excel(FILEPATH, sheet_name=\"Испорченные факты\")\n",
    "df=df.dropna()\n",
    "\n",
    "\n",
    "df = pd.pivot_table(df, values=['Продажи, руб', 'Продажи, шт','Повторение заказа','Маржинальная прибыль','Повторение товара'], index=[\"Факты.Товар ID\"],\n",
    "                     aggfunc={'Продажи, шт': [np.median, np.sum],\n",
    "                              'Продажи, руб': np.sum,\n",
    "                              'Повторение заказа': np.sum,\n",
    "                              'Маржинальная прибыль': np.sum\n",
    "                        \n",
    "                               })\n",
    "newname=df.columns.map('_'.join)\n",
    "df.columns=newname\n",
    "df=df.reset_index()\n",
    "total_sale=df['Продажи, руб_sum'].sum()\n",
    "df['Доля']=df['Продажи, руб_sum']/total_sale * 100\n",
    "df = df.sort_values(by=('Продажи, руб_sum'), ascending=False)\n",
    "df=df.assign(sum_d=df['Доля'].cumsum())\n",
    "\n",
    "df.loc[(df['sum_d'] <= 80), 'ABC'] = 'A'\n",
    "df.loc[(df['sum_d'] > 80) & (df['sum_d'] <= 95), 'ABC'] = 'B'\n",
    "df.loc[(df['sum_d'] > 95), 'ABC'] = 'C'\n",
    "\n",
    "\n",
    "df['Стоимость, руб'] = df['Продажи, руб_sum']/df['Продажи, шт_sum']\n",
    "df['Продажи в следующем периоде, шт']= (df['Продажи, шт_sum'] + df['Продажи, шт_median'])\n",
    "df['Продажи в следующем периоде']= (df['Продажи, шт_sum'] + df['Продажи, шт_median']) *df['Стоимость, руб']\n",
    "total_sale_next=df['Продажи в следующем периоде'].sum()\n",
    "df['Доля_будущая']=df['Продажи в следующем периоде']/total_sale_next * 100\n",
    "df = df.sort_values(by=('Продажи в следующем периоде'), ascending=False)\n",
    "df=df.assign(sum_d_next=df['Доля_будущая'].cumsum())\n",
    "\n",
    "df.loc[(df['sum_d_next'] <= 80), 'ABC_next'] = 'A'\n",
    "df.loc[(df['sum_d_next'] > 80) & (df['sum_d_next'] <= 95), 'ABC_next'] = 'B'\n",
    "df.loc[(df['sum_d_next'] > 95), 'ABC_next'] = 'C'\n",
    "\n",
    "df = df.sample(frac=1)\n",
    "X = df[['Стоимость, руб', 'Продажи в следующем периоде, шт']]\n",
    "y = df['ABC_next']\n",
    "\n",
    "X_train, X_test, y_train, y_test = train_test_split(X, y, test_size=0.2)\n",
    "\n",
    "model = RandomForestClassifier(n_estimators=20)\n",
    "model.fit(X_train, y_train)\n",
    "y_pred = model.predict(X_test)\n",
    "\n",
    "print(classification_report(y_test,y_pred))"
   ]
  },
  {
   "cell_type": "code",
   "execution_count": 3,
   "id": "31cdc7ae-5c67-46ae-bdd0-3603308854d5",
   "metadata": {},
   "outputs": [
    {
     "name": "stdout",
     "output_type": "stream",
     "text": [
      "              precision    recall  f1-score   support\n",
      "\n",
      "           A       0.85      0.91      0.88        77\n",
      "           B       0.87      0.86      0.87       109\n",
      "           C       0.98      0.96      0.97       187\n",
      "\n",
      "    accuracy                           0.92       373\n",
      "   macro avg       0.90      0.91      0.91       373\n",
      "weighted avg       0.92      0.92      0.92       373\n",
      "\n"
     ]
    }
   ],
   "source": [
    "svclassifier = SVC(kernel='linear')\n",
    "svclassifier.fit(X_train, y_train)\n",
    "y_pred_1 = svclassifier.predict(X_test)\n",
    "\n",
    "print(classification_report(y_test,y_pred_1))"
   ]
  },
  {
   "cell_type": "code",
   "execution_count": 6,
   "id": "4e238852-28c7-4780-98a0-0ef718c9bc54",
   "metadata": {},
   "outputs": [
    {
     "name": "stdout",
     "output_type": "stream",
     "text": [
      "              precision    recall  f1-score   support\n",
      "\n",
      "           A       0.71      0.84      0.77        77\n",
      "           B       0.70      0.65      0.68       109\n",
      "           C       0.93      0.90      0.92       187\n",
      "\n",
      "    accuracy                           0.82       373\n",
      "   macro avg       0.78      0.80      0.79       373\n",
      "weighted avg       0.82      0.82      0.82       373\n",
      "\n"
     ]
    }
   ],
   "source": [
    "classifier = KNeighborsClassifier(n_neighbors=5)\n",
    "classifier.fit(X_train, y_train)\n",
    "y_pred_2 = classifier.predict(X_test)\n",
    "\n",
    "print(classification_report(y_test, y_pred_2))"
   ]
  }
 ],
 "metadata": {
  "kernelspec": {
   "display_name": "Python 3 (ipykernel)",
   "language": "python",
   "name": "python3"
  },
  "language_info": {
   "codemirror_mode": {
    "name": "ipython",
    "version": 3
   },
   "file_extension": ".py",
   "mimetype": "text/x-python",
   "name": "python",
   "nbconvert_exporter": "python",
   "pygments_lexer": "ipython3",
   "version": "3.10.0"
  }
 },
 "nbformat": 4,
 "nbformat_minor": 5
}
