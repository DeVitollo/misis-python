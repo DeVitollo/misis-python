{
 "cells": [
  {
   "cell_type": "code",
   "execution_count": 18,
   "id": "28bd0975-ade4-4d43-982c-c96c73e7206e",
   "metadata": {},
   "outputs": [],
   "source": [
    "import pandas as pd\n",
    "\n",
    "import matplotlib.pyplot as plt\n",
    "from ipywidgets import interact, interactive, fixed, interact_manual\n",
    "import ipywidgets as widgets\n",
    "import seaborn as sns\n",
    "import numpy as np\n",
    "from scipy.spatial import Voronoi, voronoi_plot_2d\n",
    "import math\n",
    "from sklearn import datasets, linear_model, model_selection\n",
    "from sklearn.metrics import mean_squared_error, r2_score, confusion_matrix\n",
    "from tqdm import tqdm\n",
    "from sklearn.metrics import classification_report\n",
    "##Для отображения плотов на лету\n",
    "%matplotlib inline"
   ]
  },
  {
   "cell_type": "code",
   "execution_count": 47,
   "id": "8589cbdf-ddf7-412f-ba8b-98fb763ff4a9",
   "metadata": {},
   "outputs": [
    {
     "name": "stdout",
     "output_type": "stream",
     "text": [
      "Precision:  0.8842443729903537\n",
      "Recall:  0.8757961783439491\n",
      "Accuracy:  0.8487903225806451\n",
      "F1:  0.8651199370821865\n",
      "[0]\n",
      "              precision    recall  f1-score   support\n",
      "\n",
      "        Male       0.79      0.80      0.80       182\n",
      "      Female       0.88      0.88      0.88       314\n",
      "\n",
      "    accuracy                           0.85       496\n",
      "   macro avg       0.84      0.84      0.84       496\n",
      "weighted avg       0.85      0.85      0.85       496\n",
      "\n"
     ]
    },
    {
     "name": "stderr",
     "output_type": "stream",
     "text": [
      "C:\\Users\\user\\AppData\\Local\\Programs\\Python\\Python310\\lib\\site-packages\\sklearn\\base.py:450: UserWarning: X does not have valid feature names, but LogisticRegression was fitted with feature names\n",
      "  warnings.warn(\n"
     ]
    }
   ],
   "source": [
    "FILEPATH='athletes_sochi.txt'\n",
    "\n",
    "def data_class(allinput, alloutput):\n",
    "    \n",
    "    X_train, X_test, Y_train, Y_test = model_selection.train_test_split(allinput, alloutput, test_size=0.2)     \n",
    "    model = linear_model.LogisticRegression()\n",
    "    model.fit(X_train, Y_train)\n",
    "\n",
    "    Y_test_predicted = model.predict(X_test)\n",
    "\n",
    "    mysex=model.predict([[myAge, myW, myH, myKoef]])\n",
    "\n",
    "    [tn, fp], [fn, tp] = confusion_matrix(Y_test, Y_test_predicted)\n",
    "    \n",
    "    precision = tp / (tp + fp)\n",
    "    recall = tp / tp + fn\n",
    "\n",
    "    print(\"Precision: \", tp / (tp + fp))\n",
    "    print(\"Recall: \", tp / (tp + fn))\n",
    "    print(\"Accuracy: \", (tn + tp) / (tp + fp + tn + fn))\n",
    "    print(\"F1: \",  (precision * recall) / ((precision) + recall))\n",
    "    print(mysex)\n",
    "\n",
    "    report = classification_report(Y_test, model.predict(X_test), target_names=['Male', 'Female'])\n",
    "    print(report)\n",
    "\n",
    "\n",
    "\n",
    "dfs = pd.read_csv(FILEPATH).dropna()\n",
    "\n",
    "dfs[\"age_ind\"] = dfs[\"weight\"] + 0.75*(dfs[\"height\"]-1.5)+(dfs[\"age\"]-20)/4 #Соотношение роста и веса по возрасту.\n",
    "myAge=23\n",
    "myW=76\n",
    "myH=1.85\n",
    "myKoef=myAge / (myW/(myH**2))\n",
    "alldata = dfs[ ['age', 'weight', 'height', 'age_ind', 'gender'] ]\n",
    "alldata = alldata.sample(frac=1)\n",
    "allinput = alldata[ ['age', 'weight', 'height', 'age_ind'] ]\n",
    "alloutput = alldata[\"gender\"].apply(lambda x: int(x == \"Male\"))\n",
    "\n",
    "data_class( allinput, alloutput)"
   ]
  },
  {
   "cell_type": "code",
   "execution_count": null,
   "id": "f4b0446b-b369-4771-b301-ce9ea89d5443",
   "metadata": {},
   "outputs": [],
   "source": []
  },
  {
   "cell_type": "markdown",
   "id": "4a13e222-e100-4512-88cd-752deda10d34",
   "metadata": {},
   "source": [
    "Как можно заметить, точность увеличилась ! Но почему mysex 0 ??"
   ]
  }
 ],
 "metadata": {
  "kernelspec": {
   "display_name": "Python 3 (ipykernel)",
   "language": "python",
   "name": "python3"
  },
  "language_info": {
   "codemirror_mode": {
    "name": "ipython",
    "version": 3
   },
   "file_extension": ".py",
   "mimetype": "text/x-python",
   "name": "python",
   "nbconvert_exporter": "python",
   "pygments_lexer": "ipython3",
   "version": "3.10.0"
  }
 },
 "nbformat": 4,
 "nbformat_minor": 5
}
