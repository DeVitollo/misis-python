{
 "cells": [
  {
   "cell_type": "code",
   "execution_count": 7,
   "id": "6c29d04b-31df-4a0a-b65e-37f6c6704fd5",
   "metadata": {},
   "outputs": [
    {
     "name": "stdout",
     "output_type": "stream",
     "text": [
      "[2.5858808 3.1912544 4.393581  2.4366436 2.3613248 3.1608794 3.1540482\n",
      " 2.155945  3.7559085 1.3844393 2.9566872 5.0662413 5.9631834 2.5831301\n",
      " 2.1808438 3.571266  1.913301  2.0835996 2.9476545 3.6325357 2.4183493\n",
      " 4.5589843 3.0389082 5.1212416 2.379043  1.8354988 2.726512  2.597137\n",
      " 3.2449894 2.5858808 1.7889723 2.1908224 5.8180904 3.9033382 3.7885573\n",
      " 4.013802  1.7272422 1.8986261 3.3836331 2.8869925 1.3660585 2.2663627\n",
      " 2.3166306 4.694081  3.5149288 1.8948969 3.1138165 2.337624  1.7092746\n",
      " 5.308785  2.2039447 2.2663627 2.3549752 1.5529305 3.0307784 1.4571763\n",
      " 2.3368936 6.374756  3.3018472 2.4309187 1.5876285]\n",
      "1.3544330016525143\n"
     ]
    },
    {
     "name": "stderr",
     "output_type": "stream",
     "text": [
      "C:\\Users\\user\\AppData\\Local\\Programs\\Python\\Python310\\lib\\site-packages\\xgboost\\data.py:262: FutureWarning: pandas.Int64Index is deprecated and will be removed from pandas in a future version. Use pandas.Index with the appropriate dtype instead.\n",
      "  elif isinstance(data.columns, (pd.Int64Index, pd.RangeIndex)):\n"
     ]
    }
   ],
   "source": [
    "import pandas as pd\n",
    "import xgboost as xgb\n",
    "from sklearn.model_selection import train_test_split\n",
    "from sklearn.metrics import mean_squared_error\n",
    "from sklearn import preprocessing\n",
    "\n",
    "FILEPATH = 'tips.csv'\n",
    "\n",
    "df = pd.read_csv(FILEPATH)\n",
    "\n",
    "le = preprocessing.LabelEncoder()\n",
    "df.day = le.fit_transform(df.day)\n",
    "\n",
    "df['sex'] = df['sex'].apply(lambda x: int(x == \"Male\"))\n",
    "df['smoker'] = df['smoker'].apply(lambda x: int(x == \"Yes\"))\n",
    "df['time'] = df['sex'].apply(lambda x: int(x == \"Dinner\"))\n",
    "\n",
    "X = df.drop('tip', axis=1)\n",
    "y = df['tip']\n",
    "\n",
    "X_train, X_test, y_train, y_test = train_test_split(X, y)\n",
    "\n",
    "regressor = xgb.XGBRegressor(\n",
    "    n_estimators=100, reg_lambda=1, gamma=0, max_depth=3)\n",
    "\n",
    "regressor.fit(X_train, y_train)\n",
    "y_pred = regressor.predict(X_test)\n",
    "print(y_pred)\n",
    "print(mean_squared_error(y_test, y_pred))"
   ]
  },
  {
   "cell_type": "markdown",
   "id": "799c2dfb-e1c4-41e1-a21e-c8938697f427",
   "metadata": {},
   "source": [
    "Перебором сочетаний значений параметров пришел к выводу, что наибольшие чаевые оставляют мужчины в ужин"
   ]
  }
 ],
 "metadata": {
  "kernelspec": {
   "display_name": "Python 3 (ipykernel)",
   "language": "python",
   "name": "python3"
  },
  "language_info": {
   "codemirror_mode": {
    "name": "ipython",
    "version": 3
   },
   "file_extension": ".py",
   "mimetype": "text/x-python",
   "name": "python",
   "nbconvert_exporter": "python",
   "pygments_lexer": "ipython3",
   "version": "3.10.0"
  }
 },
 "nbformat": 4,
 "nbformat_minor": 5
}
